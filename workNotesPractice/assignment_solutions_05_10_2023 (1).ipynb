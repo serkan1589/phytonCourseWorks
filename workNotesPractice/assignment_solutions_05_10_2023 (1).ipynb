{
 "cells": [
  {
   "cell_type": "markdown",
   "metadata": {},
   "source": [
    "1 - Kullanıcıdan input ile iki veri alın. Bu veriler tamsayı ise çarpımını yazdırın."
   ]
  },
  {
   "cell_type": "code",
   "execution_count": 5,
   "metadata": {},
   "outputs": [
    {
     "name": "stdout",
     "output_type": "stream",
     "text": [
      "İki sayının çarpımı:  15\n"
     ]
    }
   ],
   "source": [
    "a, b = input(\"Bir tamsayı giriniz: 'ÖR: 3 gibi'\"), input(\"Başka bir tamsayı giriniz: 'ÖR: 5 gibi'\")\n",
    "if a.isnumeric() and b.isnumeric():\n",
    "    print(\"İki sayının çarpımı: \", int(a) * int(b))\n",
    "else:\n",
    "    print('Girilen veriler sayı tipinde değildir.')"
   ]
  },
  {
   "cell_type": "markdown",
   "metadata": {},
   "source": [
    "2 - Kullanıcıdan bir sayı isteyin. Sayı tek ise 2 katını çift ise karesini yazdırın. "
   ]
  },
  {
   "cell_type": "code",
   "execution_count": 11,
   "metadata": {},
   "outputs": [
    {
     "name": "stdout",
     "output_type": "stream",
     "text": [
      "100\n"
     ]
    }
   ],
   "source": [
    "a = int(input(\"Bir sayı giriniz\"))\n",
    "if a % 2 == 0: print(a ** 2)\n",
    "else: print(a * 2)"
   ]
  },
  {
   "cell_type": "markdown",
   "metadata": {},
   "source": [
    "3 - Kullanıcıdan iki tam sayı isteyin. Sayılar eşitse veya sayıların farkı 5 in katı ise True döndüren algoritmayı yazın. "
   ]
  },
  {
   "cell_type": "code",
   "execution_count": 21,
   "metadata": {},
   "outputs": [
    {
     "name": "stdout",
     "output_type": "stream",
     "text": [
      "True\n"
     ]
    }
   ],
   "source": [
    "a, b = int(input(\"Bir tamsayı giriniz: 'ÖR: 3 gibi'\")), int(input(\"Başka bir tamsayı giriniz\"))\n",
    "\n",
    "if a == b or ((a-b) % 5 == 0): print(True)\n",
    "else: print(False)"
   ]
  },
  {
   "cell_type": "markdown",
   "metadata": {},
   "source": [
    "4 - Kullanıcıya sınavdan aldığı notu sorunuz. Denk gelen Harf notunu yazdırın. 0-100 aralığı        dışında girilen notların geçersiz olduğuu belirtmeyi unutmayın. \n",
    "    80 - 100 aralığı \"A\",\n",
    "    65 - 79 aralığı \"B\",\n",
    "    55 - 64 aralığı \"C\",\n",
    "    35 - 54 aralığı \"D\",\n",
    "    0 - 34 aralığı \"F\""
   ]
  },
  {
   "cell_type": "code",
   "execution_count": 25,
   "metadata": {},
   "outputs": [
    {
     "name": "stdout",
     "output_type": "stream",
     "text": [
      "Lütfen 0-100 arası bir not değeri giriniz\n"
     ]
    }
   ],
   "source": [
    "ogrenci_notu = float(input(\"Sınav notunuzu giriniz: \"))\n",
    "if ogrenci_notu < 0 or ogrenci_notu > 100: \n",
    "    print(\"Lütfen 0-100 arası bir not değeri giriniz\")\n",
    "elif ogrenci_notu >= 80: \n",
    "    print(f\"Notunuzun ({ogrenci_notu}) harf karşılığı A'dır.\")\n",
    "elif ogrenci_notu >= 65: \n",
    "    print(f\"Notunuzun ({ogrenci_notu}) harf karşılığı B'dir.\")\n",
    "elif ogrenci_notu >= 55: \n",
    "    print(f\"Notunuzun ({ogrenci_notu}) harf karşılığı C'dir.\")\n",
    "elif ogrenci_notu >= 35: \n",
    "    print(f\"Notunuzun ({ogrenci_notu}) harf karşılığı D'dir.\")\n",
    "else: \n",
    "    print(f\"Notunuzun ({ogrenci_notu}) harf karşılığı F'dir.\")"
   ]
  },
  {
   "cell_type": "code",
   "execution_count": 31,
   "metadata": {},
   "outputs": [
    {
     "name": "stdout",
     "output_type": "stream",
     "text": [
      "Notunuzun (-50.0) harf karşılığı A'dır.\n",
      "Notunuzun ( -50.0 ) harf karşılığı A'dır.\n"
     ]
    }
   ],
   "source": [
    "print(\"Notunuzun (\"+str(ogrenci_notu)+\") harf karşılığı A'dır.\")\n",
    "print(\"Notunuzun (\",ogrenci_notu,\") harf karşılığı A'dır.\")"
   ]
  },
  {
   "cell_type": "markdown",
   "metadata": {},
   "source": [
    "5 - Vücut kitle endeksini hesaplayan kodu yazınız. Hesapladığınız değerin hangi kategoride olduğunu belirtin. Örn: vki = 24, normal. Kategori aralıklarını araştırma sonucu kendiniz elde edin. "
   ]
  },
  {
   "cell_type": "code",
   "execution_count": 33,
   "metadata": {},
   "outputs": [
    {
     "name": "stdout",
     "output_type": "stream",
     "text": [
      "Vücut Kitle İndeksiniz: 58.59, 'Aşırı Obez' kategorisindesiniz\n"
     ]
    }
   ],
   "source": [
    "kilo = float(input(\"Kilonuzu kg olarak giriniz: 'ÖR: 45 veya 45.4 gibi'\"))\n",
    "boy = float(input(\"Boyunuzu metre olarak giriniz: 'ÖR: 1.70 veya 1.63 gibi'\"))\n",
    "\n",
    "vki = round((kilo / boy ** 2), 2)\n",
    "\n",
    "if vki <= 18.5: \n",
    "    print(f\"Vücut Kitle İndeksiniz: {vki}, 'Düşük Kilolu' kategorisindesiniz\")\n",
    "elif vki < 25: \n",
    "    print(f\"Vücut Kitle İndeksiniz: {vki}, 'Normal Kilolu' kategorisindesiniz\")\n",
    "elif vki < 30: \n",
    "    print(f\"Vücut Kitle İndeksiniz: {vki}, 'Fazla Kilolu' kategorisindesiniz\")\n",
    "elif vki < 40: \n",
    "    print(f\"Vücut Kitle İndeksiniz: {vki}, 'Obez' kategorisindesiniz\")\n",
    "else: \n",
    "    print(f\"Vücut Kitle İndeksiniz: {vki}, 'Aşırı Obez' kategorisindesiniz\")"
   ]
  }
 ],
 "metadata": {
  "kernelspec": {
   "display_name": "Python 3",
   "language": "python",
   "name": "python3"
  },
  "language_info": {
   "codemirror_mode": {
    "name": "ipython",
    "version": 3
   },
   "file_extension": ".py",
   "mimetype": "text/x-python",
   "name": "python",
   "nbconvert_exporter": "python",
   "pygments_lexer": "ipython3",
   "version": "3.11.4"
  }
 },
 "nbformat": 4,
 "nbformat_minor": 2
}
