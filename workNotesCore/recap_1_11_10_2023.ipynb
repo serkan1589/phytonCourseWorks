{
 "cells": [
  {
   "cell_type": "code",
   "execution_count": 1,
   "metadata": {},
   "outputs": [
    {
     "ename": "TypeError",
     "evalue": "'<' not supported between instances of 'int' and 'str'",
     "output_type": "error",
     "traceback": [
      "\u001b[1;31m---------------------------------------------------------------------------\u001b[0m",
      "\u001b[1;31mTypeError\u001b[0m                                 Traceback (most recent call last)",
      "\u001b[1;32mc:\\Users\\a\\Desktop\\B223-225\\recap_1.ipynb Cell 1\u001b[0m line \u001b[0;36m1\n\u001b[1;32m----> <a href='vscode-notebook-cell:/c%3A/Users/a/Desktop/B223-225/recap_1.ipynb#W0sZmlsZQ%3D%3D?line=0'>1</a>\u001b[0m \u001b[39m410\u001b[39;49m \u001b[39m<\u001b[39;49m \u001b[39m\"\u001b[39;49m\u001b[39m510\u001b[39;49m\u001b[39m\"\u001b[39;49m\n",
      "\u001b[1;31mTypeError\u001b[0m: '<' not supported between instances of 'int' and 'str'"
     ]
    }
   ],
   "source": [
    "410 < \"510\""
   ]
  },
  {
   "cell_type": "code",
   "execution_count": 2,
   "metadata": {},
   "outputs": [
    {
     "data": {
      "text/plain": [
       "49"
      ]
     },
     "execution_count": 2,
     "metadata": {},
     "output_type": "execute_result"
    }
   ],
   "source": [
    "ord(\"1\")"
   ]
  },
  {
   "cell_type": "code",
   "execution_count": 3,
   "metadata": {},
   "outputs": [
    {
     "data": {
      "text/plain": [
       "50"
      ]
     },
     "execution_count": 3,
     "metadata": {},
     "output_type": "execute_result"
    }
   ],
   "source": [
    "ord(\"2\")"
   ]
  },
  {
   "cell_type": "code",
   "execution_count": 4,
   "metadata": {},
   "outputs": [
    {
     "data": {
      "text/plain": [
       "3"
      ]
     },
     "execution_count": 4,
     "metadata": {},
     "output_type": "execute_result"
    }
   ],
   "source": [
    "[1,2,3,4,5].index(4)"
   ]
  },
  {
   "cell_type": "markdown",
   "metadata": {},
   "source": [
    "### Kullanıcının girdiği bir sayının Armstrong number olup olmadığını tespit eden bir algoritma oluşturun. "
   ]
  },
  {
   "cell_type": "code",
   "execution_count": null,
   "metadata": {},
   "outputs": [],
   "source": [
    "1^3 + 5^3 + 3^3 = 1 + 125 + 27 = 153"
   ]
  },
  {
   "cell_type": "code",
   "execution_count": 9,
   "metadata": {},
   "outputs": [
    {
     "name": "stdout",
     "output_type": "stream",
     "text": [
      "Girdiğiniz sayı: 4589 Armstrong bir sayı değildir.\n"
     ]
    }
   ],
   "source": [
    "sayı = input(\"bir sayı girin armstrong olup olmadığını öğrenin\")\n",
    "\n",
    "basamak_sayısı = len(sayı)\n",
    "\n",
    "toplam = 0\n",
    "\n",
    "for i in sayı:\n",
    "\n",
    "    toplam += int(i) ** basamak_sayısı # toplam = toplam + int(i) ** basamak_sayısı\n",
    "\n",
    "\n",
    "if toplam == int(sayı):\n",
    "    print(f\"Girdiğiniz sayı: {sayı} Armstrong bir sayıdır\")\n",
    "else:\n",
    "    print(f\"Girdiğiniz sayı: {sayı} Armstrong bir sayı değildir.\")\n"
   ]
  },
  {
   "cell_type": "code",
   "execution_count": null,
   "metadata": {},
   "outputs": [],
   "source": [
    "sum([1,125,27])"
   ]
  },
  {
   "cell_type": "code",
   "execution_count": 16,
   "metadata": {},
   "outputs": [
    {
     "data": {
      "text/plain": [
       "False"
      ]
     },
     "execution_count": 16,
     "metadata": {},
     "output_type": "execute_result"
    }
   ],
   "source": [
    "sayı = input(\"bir sayı girin armstrong olup olmadığını öğrenin\")\n",
    "\n",
    "sum([ int(i) ** len(sayı)  for i in sayı]) == int(sayı)"
   ]
  },
  {
   "cell_type": "code",
   "execution_count": 17,
   "metadata": {},
   "outputs": [
    {
     "data": {
      "text/plain": [
       "['T', 'E', 'C', 'H', 'P', 'R', 'O']"
      ]
     },
     "execution_count": 17,
     "metadata": {},
     "output_type": "execute_result"
    }
   ],
   "source": [
    "[ i.upper() for i in \"techpro\"] # bütün karakterleri büyük hale getirin"
   ]
  },
  {
   "cell_type": "code",
   "execution_count": 18,
   "metadata": {},
   "outputs": [
    {
     "data": {
      "text/plain": [
       "['T', 'C', 'H', 'P', 'R']"
      ]
     },
     "execution_count": 18,
     "metadata": {},
     "output_type": "execute_result"
    }
   ],
   "source": [
    "[    i.upper()   for i in \"techpro\" if i not in \"aeiıoöuü\"] # sadece sessiz harfleri büyük hale getirin"
   ]
  },
  {
   "cell_type": "code",
   "execution_count": 19,
   "metadata": {},
   "outputs": [
    {
     "data": {
      "text/plain": [
       "['T', 'e', 'C', 'H', 'P', 'R', 'o']"
      ]
     },
     "execution_count": 19,
     "metadata": {},
     "output_type": "execute_result"
    }
   ],
   "source": [
    "[i.upper() if i not in \"aeiıoöuü\" else i for i in \"techpro\"] #  sessiz harfleri büyük hale getirin. Sesli harfler olduğu gibi kalsın"
   ]
  },
  {
   "cell_type": "code",
   "execution_count": 24,
   "metadata": {},
   "outputs": [
    {
     "data": {
      "text/plain": [
       "'TeCHPRo'"
      ]
     },
     "execution_count": 24,
     "metadata": {},
     "output_type": "execute_result"
    }
   ],
   "source": [
    "\"\".join([i.upper() if i not in \"aeiıoöuü\" else i for i in \"techpro\"])"
   ]
  },
  {
   "cell_type": "markdown",
   "metadata": {},
   "source": [
    "\"Techpro is the best\" >> bu string içerisindeki karakterlerin kaçar defa geçtiğini bulan kodu yazın."
   ]
  },
  {
   "cell_type": "code",
   "execution_count": 26,
   "metadata": {},
   "outputs": [
    {
     "data": {
      "text/plain": [
       "{'T': 1,\n",
       " 'e': 3,\n",
       " 'c': 1,\n",
       " 'h': 2,\n",
       " 'p': 1,\n",
       " 'r': 1,\n",
       " 'o': 1,\n",
       " ' ': 3,\n",
       " 'i': 1,\n",
       " 's': 2,\n",
       " 't': 2,\n",
       " 'b': 1}"
      ]
     },
     "execution_count": 26,
     "metadata": {},
     "output_type": "execute_result"
    }
   ],
   "source": [
    "result_dict = {}\n",
    "\n",
    "for i in \"Techpro is the best\":\n",
    "    \n",
    "    if i in result_dict:\n",
    "        result_dict[i] += 1\n",
    "    else:\n",
    "        result_dict[i] = 1\n",
    "\n",
    "result_dict\n"
   ]
  },
  {
   "cell_type": "code",
   "execution_count": 27,
   "metadata": {},
   "outputs": [
    {
     "name": "stdout",
     "output_type": "stream",
     "text": [
      "Cümlede  T  harfinden  1  adet kullanılmıştır\n",
      "Cümlede  e  harfinden  3  adet kullanılmıştır\n",
      "Cümlede  c  harfinden  1  adet kullanılmıştır\n",
      "Cümlede  h  harfinden  2  adet kullanılmıştır\n",
      "Cümlede  p  harfinden  1  adet kullanılmıştır\n",
      "Cümlede  r  harfinden  1  adet kullanılmıştır\n",
      "Cümlede  o  harfinden  1  adet kullanılmıştır\n",
      "Cümlede     harfinden  3  adet kullanılmıştır\n",
      "Cümlede  i  harfinden  1  adet kullanılmıştır\n",
      "Cümlede  s  harfinden  2  adet kullanılmıştır\n",
      "Cümlede     harfinden  3  adet kullanılmıştır\n",
      "Cümlede  t  harfinden  2  adet kullanılmıştır\n",
      "Cümlede  h  harfinden  2  adet kullanılmıştır\n",
      "Cümlede  e  harfinden  3  adet kullanılmıştır\n",
      "Cümlede     harfinden  3  adet kullanılmıştır\n",
      "Cümlede  b  harfinden  1  adet kullanılmıştır\n",
      "Cümlede  e  harfinden  3  adet kullanılmıştır\n",
      "Cümlede  s  harfinden  2  adet kullanılmıştır\n",
      "Cümlede  t  harfinden  2  adet kullanılmıştır\n"
     ]
    }
   ],
   "source": [
    "sentence = \"Techpro is the best\"\n",
    "for i in sentence:\n",
    "    print(f\"Cümlede {i:^3} harfinden {sentence.count(i):^3} adet kullanılmıştır\")"
   ]
  },
  {
   "cell_type": "code",
   "execution_count": 29,
   "metadata": {},
   "outputs": [
    {
     "data": {
      "text/plain": [
       "{(' ', 3),\n",
       " ('T', 1),\n",
       " ('b', 1),\n",
       " ('c', 1),\n",
       " ('e', 3),\n",
       " ('h', 2),\n",
       " ('i', 1),\n",
       " ('o', 1),\n",
       " ('p', 1),\n",
       " ('r', 1),\n",
       " ('s', 2),\n",
       " ('t', 2)}"
      ]
     },
     "execution_count": 29,
     "metadata": {},
     "output_type": "execute_result"
    }
   ],
   "source": [
    "sentence = \"Techpro is the best\"\n",
    "result_list = []\n",
    "for i in sentence:\n",
    "    result_list.append((i,sentence.count(i)))\n",
    "set(result_list)"
   ]
  },
  {
   "cell_type": "code",
   "execution_count": null,
   "metadata": {},
   "outputs": [],
   "source": []
  }
 ],
 "metadata": {
  "kernelspec": {
   "display_name": "base",
   "language": "python",
   "name": "python3"
  },
  "language_info": {
   "codemirror_mode": {
    "name": "ipython",
    "version": 3
   },
   "file_extension": ".py",
   "mimetype": "text/x-python",
   "name": "python",
   "nbconvert_exporter": "python",
   "pygments_lexer": "ipython3",
   "version": "3.10.9"
  }
 },
 "nbformat": 4,
 "nbformat_minor": 2
}
